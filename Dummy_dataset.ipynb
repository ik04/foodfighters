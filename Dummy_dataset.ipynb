{
 "cells": [
  {
   "cell_type": "code",
   "execution_count": 20,
   "id": "5fdeab45",
   "metadata": {
    "scrolled": false
   },
   "outputs": [
    {
     "name": "stderr",
     "output_type": "stream",
     "text": [
      "C:\\Users\\Parth Bhargava\\anaconda3\\lib\\site-packages\\sklearn\\base.py:450: UserWarning: X does not have valid feature names, but DecisionTreeClassifier was fitted with feature names\n",
      "  warnings.warn(\n"
     ]
    },
    {
     "data": {
      "text/plain": [
       "array([\"Sara Louise's Keto Baked Cauliflower Florets\"], dtype=object)"
      ]
     },
     "execution_count": 20,
     "metadata": {},
     "output_type": "execute_result"
    }
   ],
   "source": [
    "import pandas as pd\n",
    "from sklearn.tree import DecisionTreeClassifier\n",
    "from sklearn import tree\n",
    "\n",
    "m=pd.read_csv('dummydataset.csv')\n",
    "x=m.drop(columns=['Recipe_name'])\n",
    "y=m['Recipe_name']\n",
    "\n",
    "model = DecisionTreeClassifier()\n",
    "model.fit(x,y)\n",
    "predictions = model.predict([ [31.502690, 51.296439, 83.231498, 152.123189, 117.328542] ])\n",
    "predictions\n"
   ]
  },
  {
   "cell_type": "code",
   "execution_count": 23,
   "id": "629ce0f4",
   "metadata": {},
   "outputs": [
    {
     "data": {
      "text/plain": [
       "array(['Pulled Pork Keto Stuffed Mushrooms',\n",
       "       'Asian Southwest Fusion EASY Kimchi Recipe (Paleo, Vegan Friendly) recipes',\n",
       "       'Creamy Mediterranean Chicken Pasta Primavera', ...,\n",
       "       'Mediterranean Spaghetti Squash',\n",
       "       'Creamy Vegan Linguine with Wild Mushrooms recipes',\n",
       "       'Pappardelle with Artichoke Chickpea Meatballs'], dtype=object)"
      ]
     },
     "execution_count": 23,
     "metadata": {},
     "output_type": "execute_result"
    }
   ],
   "source": [
    "import pandas as pd\n",
    "from sklearn.tree import DecisionTreeClassifier\n",
    "from sklearn.model_selection import train_test_split\n",
    "\n",
    "m=pd.read_csv('dummydataset.csv')\n",
    "x=m.drop(columns=['Recipe_name'])\n",
    "y=m['Recipe_name']\n",
    "x_train,x_test,y_train,y_test = train_test_split(x,y,test_size=0.25)\n",
    "\n",
    "model = DecisionTreeClassifier()\n",
    "model.fit(x,y)\n",
    "predictions = model.predict(x_test)\n",
    "predictions\n",
    "\n"
   ]
  },
  {
   "cell_type": "code",
   "execution_count": 35,
   "id": "ba9c8035",
   "metadata": {},
   "outputs": [
    {
     "data": {
      "text/plain": [
       "0.9916773367477593"
      ]
     },
     "execution_count": 35,
     "metadata": {},
     "output_type": "execute_result"
    }
   ],
   "source": [
    "import pandas as pd\n",
    "from sklearn.tree import DecisionTreeClassifier\n",
    "from sklearn.model_selection import train_test_split\n",
    "from sklearn.metrics import accuracy_score\n",
    "\n",
    "m=pd.read_csv('dummydataset.csv')\n",
    "x=m.drop(columns=['Recipe_name'])\n",
    "y=m['Recipe_name']\n",
    "x_train,x_test,y_train,y_test = train_test_split(x,y,test_size=0.2)\n",
    "\n",
    "model = DecisionTreeClassifier()\n",
    "model.fit(x,y)\n",
    "predictions = model.predict(x_test)\n",
    "a=accuracy_score(y_test, predictions)\n",
    "\n",
    "a\n"
   ]
  }
 ],
 "metadata": {
  "kernelspec": {
   "display_name": "Python 3 (ipykernel)",
   "language": "python",
   "name": "python3"
  },
  "language_info": {
   "codemirror_mode": {
    "name": "ipython",
    "version": 3
   },
   "file_extension": ".py",
   "mimetype": "text/x-python",
   "name": "python",
   "nbconvert_exporter": "python",
   "pygments_lexer": "ipython3",
   "version": "3.9.13"
  }
 },
 "nbformat": 4,
 "nbformat_minor": 5
}
